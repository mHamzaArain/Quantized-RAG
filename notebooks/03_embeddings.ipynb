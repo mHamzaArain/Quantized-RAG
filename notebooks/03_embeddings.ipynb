{
 "cells": [
  {
   "cell_type": "code",
   "execution_count": 2,
   "metadata": {},
   "outputs": [],
   "source": [
    "import os\n",
    "\n",
    "os.chdir(r\"/home/kumail/Quantized-RAG\")\n",
    "\n",
    "# https://python.langchain.com/v0.1/docs/integrations/vectorstores/faiss/"
   ]
  },
  {
   "cell_type": "code",
   "execution_count": 5,
   "metadata": {},
   "outputs": [],
   "source": [
    "from transformers import AutoTokenizer, AutoModel\n",
    "import torch\n",
    "import faiss\n",
    "import numpy as np\n",
    "import pickle\n",
    "\n",
    "# Load model and tokenizer\n",
    "model_name = \"sentence-transformers/all-MiniLM-L6-v2\"\n",
    "tokenizer = AutoTokenizer.from_pretrained(model_name)\n",
    "model = AutoModel.from_pretrained(model_name)\n",
    "\n",
    "# Function to compute embeddings\n",
    "def compute_embeddings(texts):\n",
    "    inputs = tokenizer(texts, padding=True, truncation=True, return_tensors=\"pt\")\n",
    "    with torch.no_grad():\n",
    "        model_output = model(**inputs)\n",
    "    embeddings = model_output.last_hidden_state.mean(dim=1)  # mean pooling\n",
    "    return embeddings.numpy()"
   ]
  },
  {
   "cell_type": "code",
   "execution_count": 6,
   "metadata": {},
   "outputs": [],
   "source": [
    "import joblib\n",
    "\n",
    "documents = joblib.load('data/processed_text.pkl')"
   ]
  },
  {
   "cell_type": "code",
   "execution_count": 10,
   "metadata": {},
   "outputs": [],
   "source": [
    "# Compute embeddings\n",
    "document_embeddings = compute_embeddings(documents)\n",
    "\n",
    "# Build FAISS index\n",
    "dimension = document_embeddings.shape[1]\n",
    "index = faiss.IndexFlatL2(dimension)\n",
    "index.add(document_embeddings)\n",
    "\n",
    "# Save FAISS index and documents\n",
    "index_file = \"data/faiss_index.bin\"\n",
    "faiss.write_index(index, index_file)\n",
    "\n",
    "documents_file = \"data/documents.pkl\"\n",
    "with open(documents_file, 'wb') as f:\n",
    "    pickle.dump(documents, f)"
   ]
  },
  {
   "cell_type": "code",
   "execution_count": 11,
   "metadata": {},
   "outputs": [
    {
     "data": {
      "text/plain": [
       "1163"
      ]
     },
     "execution_count": 11,
     "metadata": {},
     "output_type": "execute_result"
    }
   ],
   "source": [
    "document_embeddings\n",
    "\n",
    "len(document_embeddings)"
   ]
  },
  {
   "cell_type": "code",
   "execution_count": 3,
   "metadata": {},
   "outputs": [],
   "source": [
    "from transformers import AutoTokenizer, AutoModel\n",
    "import torch\n",
    "import faiss\n",
    "import numpy as np\n",
    "import pickle\n",
    "\n",
    "# Load model and tokenizer\n",
    "model_name = \"sentence-transformers/all-MiniLM-L6-v2\"\n",
    "tokenizer = AutoTokenizer.from_pretrained(model_name)\n",
    "model = AutoModel.from_pretrained(model_name)\n",
    "\n",
    "# Function to compute embeddings\n",
    "def compute_embeddings(texts):\n",
    "    inputs = tokenizer(texts, padding=True, truncation=True, return_tensors=\"pt\")\n",
    "    with torch.no_grad():\n",
    "        model_output = model(**inputs)\n",
    "    embeddings = model_output.last_hidden_state.mean(dim=1)  # mean pooling\n",
    "    return embeddings.numpy()\n",
    "\n",
    "\n",
    "\n",
    "documents_file = \"data/documents.pkl\"\n",
    "index_file = \"data/faiss_index.bin\"\n",
    "\n",
    "\n",
    "# Load FAISS index and documents\n",
    "index = faiss.read_index(index_file)\n",
    "with open(documents_file, 'rb') as f:\n",
    "    documents = pickle.load(f)\n",
    "\n",
    "\n",
    "\n"
   ]
  },
  {
   "cell_type": "code",
   "execution_count": 4,
   "metadata": {},
   "outputs": [
    {
     "name": "stdout",
     "output_type": "stream",
     "text": [
      "Results:\n",
      "Rank 1:\n",
      "Document: Apple Inc.'s total revenue in 2022 was $394.33 billion.\n",
      "Distance: 43.733909606933594\n",
      "Rank 2:\n",
      "Document: Apple's Total Liabilities for the TTM period are 50.80 billion USD.\n",
      "Distance: 47.49530029296875\n",
      "Rank 3:\n",
      "Document: Apple's total current assets for the TTM period are 79.26 billion USD.\n",
      "Distance: 48.00399398803711\n"
     ]
    }
   ],
   "source": [
    "# Perform a search query\n",
    "query = \"how apple is performing \"\n",
    "query_embedding = compute_embeddings([query])\n",
    "\n",
    "k = 3  # Number of nearest neighbors to retrieve\n",
    "distances, indices = index.search(query_embedding, k)\n",
    "\n",
    "# Display results\n",
    "print(\"Results:\")\n",
    "for i, idx in enumerate(indices[0]):\n",
    "    print(f\"Rank {i+1}:\")\n",
    "    print(f\"Document: {documents[idx]}\")\n",
    "    print(f\"Distance: {distances[0][i]}\")\n"
   ]
  },
  {
   "cell_type": "markdown",
   "metadata": {},
   "source": [
    "## Vector Search"
   ]
  },
  {
   "cell_type": "code",
   "execution_count": null,
   "metadata": {},
   "outputs": [],
   "source": [
    "class Vector:\n",
    "    def __init__(self, model_name, index_file, documents_file) :\n",
    "        self.embed_tokenizer, self.embed_model=self.load_model(model_name)\n",
    "        self.faiss_index = self.load_index(index_file)\n",
    "        self.embed_docs = self.load_embedded_documents(documents_file)\n",
    "\n",
    "    def load_model(self, model_name):\n",
    "        tokenizer = AutoTokenizer.from_pretrained(model_name)\n",
    "        model = AutoModel.from_pretrained(model_name)\n",
    "        return tokenizer, model\n",
    "    \n",
    "    def load_index(self, index_file):\n",
    "        return faiss.read_index(index_file)\n",
    "    \n",
    "    def load_embedded_documents(self, documents_file):\n",
    "        with open(documents_file, 'rb') as f:\n",
    "            documents = pickle.load(f)\n",
    "            return documents\n",
    "        \n",
    "    def compute_embeddings(self, texts):\n",
    "        inputs = self.embed_tokenizer(texts, padding=True, truncation=True, return_tensors=\"pt\")\n",
    "        with torch.no_grad():\n",
    "            model_output = model(**inputs)\n",
    "        embeddings = model_output.last_hidden_state.mean(dim=1)  # mean pooling\n",
    "        return embeddings.numpy()\n",
    "\n",
    "    def cosine_search(self, query_embedding, k):\n",
    "        distances, indices = index.search(query_embedding, k)\n",
    "        return indices\n",
    "    \n",
    "    def search(self, text, k):\n",
    "        query_embedding = self.compute_embeddings([text])\n",
    "        retrived_indexes = self.cosine_search(query_embedding, k)\n",
    "        return [self.embed_docs[i] for i in retrived_indexes[0]]\n"
   ]
  },
  {
   "cell_type": "code",
   "execution_count": null,
   "metadata": {},
   "outputs": [],
   "source": [
    "model_name = \"sentence-transformers/all-MiniLM-L6-v2\"\n",
    "documents_file = \"data/documents.pkl\"\n",
    "index_file = \"data/faiss_index.bin\"\n",
    "\n",
    "vec = Vector(model_name=model_name,\n",
    "                index_file=index_file,\n",
    "                documents_file=documents_file\n",
    "            )"
   ]
  }
 ],
 "metadata": {
  "kernelspec": {
   "display_name": "envs",
   "language": "python",
   "name": "python3"
  },
  "language_info": {
   "codemirror_mode": {
    "name": "ipython",
    "version": 3
   },
   "file_extension": ".py",
   "mimetype": "text/x-python",
   "name": "python",
   "nbconvert_exporter": "python",
   "pygments_lexer": "ipython3",
   "version": "3.10.12"
  }
 },
 "nbformat": 4,
 "nbformat_minor": 2
}
